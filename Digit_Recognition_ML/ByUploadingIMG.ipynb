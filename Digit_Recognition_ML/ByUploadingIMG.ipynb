{
 "cells": [
  {
   "cell_type": "code",
   "execution_count": 2,
   "id": "0e8b7511",
   "metadata": {},
   "outputs": [
    {
     "name": "stdout",
     "output_type": "stream",
     "text": [
      "\u001b[1m1/1\u001b[0m \u001b[32m━━━━━━━━━━━━━━━━━━━━\u001b[0m\u001b[37m\u001b[0m \u001b[1m0s\u001b[0m 137ms/step\n",
      "Predicted digit from image: 2\n"
     ]
    }
   ],
   "source": [
    "import numpy as np\n",
    "from PIL import Image\n",
    "from tensorflow.keras.models import load_model\n",
    "\n",
    "# Load the trained model\n",
    "model = load_model(\"digit_model.keras\")\n",
    "\n",
    "# Load and preprocess your image\n",
    "img = Image.open(\"two.jpg\").convert('L').resize((28, 28))  # 'L' = grayscale\n",
    "img_array = np.array(img)\n",
    "\n",
    "# Invert colors if needed (MNIST has white digits on black background)\n",
    "img_array = 255 - img_array\n",
    "\n",
    "# Normalize and reshape to match the model's input shape\n",
    "img_array = img_array.astype('float32') / 255.0\n",
    "img_array = img_array.reshape(1, 28, 28, 1)\n",
    "\n",
    "# Predict using the model\n",
    "prediction = model.predict(img_array)\n",
    "predicted_label = np.argmax(prediction)\n",
    "\n",
    "# Print result\n",
    "print(\"Predicted digit from image:\", predicted_label)\n"
   ]
  }
 ],
 "metadata": {
  "kernelspec": {
   "display_name": "Python 3",
   "language": "python",
   "name": "python3"
  },
  "language_info": {
   "codemirror_mode": {
    "name": "ipython",
    "version": 3
   },
   "file_extension": ".py",
   "mimetype": "text/x-python",
   "name": "python",
   "nbconvert_exporter": "python",
   "pygments_lexer": "ipython3",
   "version": "3.12.1"
  }
 },
 "nbformat": 4,
 "nbformat_minor": 5
}
